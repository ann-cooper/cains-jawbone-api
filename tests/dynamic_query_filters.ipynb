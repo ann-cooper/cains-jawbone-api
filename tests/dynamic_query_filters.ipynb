{
 "cells": [
  {
   "cell_type": "code",
   "execution_count": 1,
   "metadata": {},
   "outputs": [
    {
     "name": "stdout",
     "output_type": "stream",
     "text": [
      "2024-02-02 09:21:09,966 INFO sqlalchemy.engine.Engine BEGIN (implicit)\n",
      "2024-02-02 09:21:09,967 INFO sqlalchemy.engine.Engine PRAGMA main.table_info(\"people\")\n",
      "2024-02-02 09:21:09,968 INFO sqlalchemy.engine.Engine [raw sql] ()\n",
      "2024-02-02 09:21:09,970 INFO sqlalchemy.engine.Engine PRAGMA temp.table_info(\"people\")\n",
      "2024-02-02 09:21:09,970 INFO sqlalchemy.engine.Engine [raw sql] ()\n",
      "2024-02-02 09:21:09,972 INFO sqlalchemy.engine.Engine \n",
      "CREATE TABLE people (\n",
      "\tid INTEGER NOT NULL, \n",
      "\tname VARCHAR NOT NULL, \n",
      "\trole VARCHAR, \n",
      "\tPRIMARY KEY (id), \n",
      "\tUNIQUE (name)\n",
      ")\n",
      "\n",
      "\n",
      "2024-02-02 09:21:09,973 INFO sqlalchemy.engine.Engine [no key 0.00076s] ()\n",
      "2024-02-02 09:21:09,975 INFO sqlalchemy.engine.Engine COMMIT\n"
     ]
    },
    {
     "name": "stderr",
     "output_type": "stream",
     "text": [
      "/var/folders/f0/l0tj912918jd0jg0srk0vl8r0000gn/T/ipykernel_35358/2345801480.py:5: MovedIn20Warning: The ``declarative_base()`` function is now available as sqlalchemy.orm.declarative_base(). (deprecated since: 2.0) (Background on SQLAlchemy 2.0 at: https://sqlalche.me/e/b8d9)\n",
      "  Base = declarative_base()\n"
     ]
    }
   ],
   "source": [
    "from sqlalchemy.ext.declarative import declarative_base\n",
    "from sqlalchemy import Column, Integer, String, create_engine\n",
    "from sqlalchemy.orm import sessionmaker\n",
    "\n",
    "Base = declarative_base()\n",
    "\n",
    "class People(Base):\n",
    "    \"\"\"Characters mentioned and their role in the puzzle.\"\"\"\n",
    "\n",
    "    __tablename__ = \"people\"\n",
    "\n",
    "    id = Column(Integer, primary_key=True, autoincrement=True)\n",
    "    name = Column(String, nullable=False, unique=True)\n",
    "    role = Column(String, nullable=True)\n",
    "\n",
    "engine = create_engine(\"sqlite:///temp_test.db\", echo=True)\n",
    "conn = engine.connect()\n",
    "session = sessionmaker(bind=engine)()\n",
    "Base.metadata.create_all(engine)\n",
    "\n",
    "\n"
   ]
  },
  {
   "cell_type": "code",
   "execution_count": 2,
   "metadata": {},
   "outputs": [
    {
     "name": "stdout",
     "output_type": "stream",
     "text": [
      "2024-02-02 09:21:12,183 INFO sqlalchemy.engine.Engine BEGIN (implicit)\n",
      "2024-02-02 09:21:12,190 INFO sqlalchemy.engine.Engine INSERT INTO people (id, name, role) VALUES (?, ?, ?)\n",
      "2024-02-02 09:21:12,209 INFO sqlalchemy.engine.Engine [generated in 0.01866s] [(1, 'Sprinkles', 'Test'), (2, 'Sparkles', 'Test')]\n"
     ]
    },
    {
     "name": "stdout",
     "output_type": "stream",
     "text": [
      "2024-02-02 09:21:12,216 INFO sqlalchemy.engine.Engine COMMIT\n"
     ]
    }
   ],
   "source": [
    "c1 = People(id=1, name=\"Sprinkles\", role=\"Test\")\n",
    "c2 = People(id=2, name=\"Sparkles\", role=\"Test\")\n",
    "session.add(c1)\n",
    "session.add(c2)\n",
    "session.commit()"
   ]
  },
  {
   "cell_type": "code",
   "execution_count": 3,
   "metadata": {},
   "outputs": [],
   "source": [
    "data = {\"id\": 2, \"name\": \"Sparkles\", \"role\": \"Test\"}"
   ]
  },
  {
   "cell_type": "code",
   "execution_count": 4,
   "metadata": {},
   "outputs": [],
   "source": [
    "model = People\n",
    "filters = []\n",
    "for k, v in data.items():\n",
    "    column = getattr(model, k, None)\n",
    "    if column and v:\n",
    "        filters.append((getattr(column, \"__eq__\")(v)))"
   ]
  },
  {
   "cell_type": "code",
   "execution_count": 5,
   "metadata": {},
   "outputs": [
    {
     "data": {
      "text/plain": [
       "[<sqlalchemy.sql.elements.BinaryExpression object at 0x10e18bd00>,\n",
       " <sqlalchemy.sql.elements.BinaryExpression object at 0x10e1094e0>,\n",
       " <sqlalchemy.sql.elements.BinaryExpression object at 0x10daf2a40>]"
      ]
     },
     "execution_count": 5,
     "metadata": {},
     "output_type": "execute_result"
    }
   ],
   "source": [
    "filters\n"
   ]
  },
  {
   "cell_type": "code",
   "execution_count": 6,
   "metadata": {},
   "outputs": [
    {
     "name": "stdout",
     "output_type": "stream",
     "text": [
      "2024-02-02 09:21:21,168 INFO sqlalchemy.engine.Engine BEGIN (implicit)\n"
     ]
    },
    {
     "name": "stdout",
     "output_type": "stream",
     "text": [
      "2024-02-02 09:21:21,223 INFO sqlalchemy.engine.Engine SELECT people.id AS people_id, people.name AS people_name, people.role AS people_role \n",
      "FROM people \n",
      "WHERE people.id = ? AND people.name = ? AND people.role = ?\n",
      "2024-02-02 09:21:21,251 INFO sqlalchemy.engine.Engine [generated in 0.02853s] (1, 'Sprinkles', 'Test')\n"
     ]
    }
   ],
   "source": [
    "result = session.query(model).filter(*filters).one_or_none()"
   ]
  },
  {
   "cell_type": "code",
   "execution_count": 7,
   "metadata": {},
   "outputs": [
    {
     "data": {
      "text/plain": [
       "'Sprinkles'"
      ]
     },
     "execution_count": 7,
     "metadata": {},
     "output_type": "execute_result"
    }
   ],
   "source": [
    "result.name"
   ]
  },
  {
   "cell_type": "code",
   "execution_count": null,
   "metadata": {},
   "outputs": [],
   "source": []
  },
  {
   "cell_type": "code",
   "execution_count": null,
   "metadata": {},
   "outputs": [],
   "source": []
  }
 ],
 "metadata": {
  "kernelspec": {
   "display_name": "cain_10",
   "language": "python",
   "name": "python3"
  },
  "language_info": {
   "codemirror_mode": {
    "name": "ipython",
    "version": 3
   },
   "file_extension": ".py",
   "mimetype": "text/x-python",
   "name": "python",
   "nbconvert_exporter": "python",
   "pygments_lexer": "ipython3",
   "version": "3.10.10"
  }
 },
 "nbformat": 4,
 "nbformat_minor": 2
}
